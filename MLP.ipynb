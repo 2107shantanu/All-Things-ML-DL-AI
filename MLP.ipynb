{
  "nbformat": 4,
  "nbformat_minor": 0,
  "metadata": {
    "colab": {
      "name": "MLP.ipynb",
      "provenance": [],
      "include_colab_link": true
    },
    "kernelspec": {
      "name": "python3",
      "display_name": "Python 3"
    },
    "accelerator": "GPU"
  },
  "cells": [
    {
      "cell_type": "markdown",
      "metadata": {
        "id": "view-in-github",
        "colab_type": "text"
      },
      "source": [
        "<a href=\"https://colab.research.google.com/github/2107shantanu/All-Things-ML-DL-AI/blob/main/MLP.ipynb\" target=\"_parent\"><img src=\"https://colab.research.google.com/assets/colab-badge.svg\" alt=\"Open In Colab\"/></a>"
      ]
    },
    {
      "cell_type": "markdown",
      "metadata": {
        "id": "wi_k9lQtQOLP"
      },
      "source": [
        "\n",
        "\n",
        "Let’s start building our multilayer perceptron using tensorflow. We will begin by importing the required libraries.\n"
      ]
    },
    {
      "cell_type": "code",
      "source": [
        "pip install tensorflow==1.13.1"
      ],
      "metadata": {
        "colab": {
          "base_uri": "https://localhost:8080/"
        },
        "id": "rE79-qChBXaz",
        "outputId": "e8787f12-6dc3-4a78-f70f-3032929e04d8"
      },
      "execution_count": null,
      "outputs": [
        {
          "output_type": "stream",
          "name": "stdout",
          "text": [
            "Looking in indexes: https://pypi.org/simple, https://us-python.pkg.dev/colab-wheels/public/simple/\n",
            "Collecting tensorflow==1.13.1\n",
            "  Downloading tensorflow-1.13.1-cp37-cp37m-manylinux1_x86_64.whl (92.6 MB)\n",
            "\u001b[K     |████████████████████████████████| 92.6 MB 80 kB/s \n",
            "\u001b[?25hRequirement already satisfied: termcolor>=1.1.0 in /usr/local/lib/python3.7/dist-packages (from tensorflow==1.13.1) (1.1.0)\n",
            "Collecting tensorboard<1.14.0,>=1.13.0\n",
            "  Downloading tensorboard-1.13.1-py3-none-any.whl (3.2 MB)\n",
            "\u001b[K     |████████████████████████████████| 3.2 MB 55.4 MB/s \n",
            "\u001b[?25hRequirement already satisfied: keras-preprocessing>=1.0.5 in /usr/local/lib/python3.7/dist-packages (from tensorflow==1.13.1) (1.1.2)\n",
            "Collecting keras-applications>=1.0.6\n",
            "  Downloading Keras_Applications-1.0.8-py3-none-any.whl (50 kB)\n",
            "\u001b[K     |████████████████████████████████| 50 kB 7.9 MB/s \n",
            "\u001b[?25hRequirement already satisfied: numpy>=1.13.3 in /usr/local/lib/python3.7/dist-packages (from tensorflow==1.13.1) (1.21.6)\n",
            "Requirement already satisfied: astor>=0.6.0 in /usr/local/lib/python3.7/dist-packages (from tensorflow==1.13.1) (0.8.1)\n",
            "Requirement already satisfied: grpcio>=1.8.6 in /usr/local/lib/python3.7/dist-packages (from tensorflow==1.13.1) (1.47.0)\n",
            "Requirement already satisfied: protobuf>=3.6.1 in /usr/local/lib/python3.7/dist-packages (from tensorflow==1.13.1) (3.17.3)\n",
            "Requirement already satisfied: gast>=0.2.0 in /usr/local/lib/python3.7/dist-packages (from tensorflow==1.13.1) (0.5.3)\n",
            "Requirement already satisfied: six>=1.10.0 in /usr/local/lib/python3.7/dist-packages (from tensorflow==1.13.1) (1.15.0)\n",
            "Requirement already satisfied: wheel>=0.26 in /usr/local/lib/python3.7/dist-packages (from tensorflow==1.13.1) (0.37.1)\n",
            "Requirement already satisfied: absl-py>=0.1.6 in /usr/local/lib/python3.7/dist-packages (from tensorflow==1.13.1) (1.1.0)\n",
            "Collecting tensorflow-estimator<1.14.0rc0,>=1.13.0\n",
            "  Downloading tensorflow_estimator-1.13.0-py2.py3-none-any.whl (367 kB)\n",
            "\u001b[K     |████████████████████████████████| 367 kB 62.8 MB/s \n",
            "\u001b[?25hRequirement already satisfied: h5py in /usr/local/lib/python3.7/dist-packages (from keras-applications>=1.0.6->tensorflow==1.13.1) (3.1.0)\n",
            "Requirement already satisfied: markdown>=2.6.8 in /usr/local/lib/python3.7/dist-packages (from tensorboard<1.14.0,>=1.13.0->tensorflow==1.13.1) (3.4.1)\n",
            "Requirement already satisfied: werkzeug>=0.11.15 in /usr/local/lib/python3.7/dist-packages (from tensorboard<1.14.0,>=1.13.0->tensorflow==1.13.1) (1.0.1)\n",
            "Requirement already satisfied: importlib-metadata>=4.4 in /usr/local/lib/python3.7/dist-packages (from markdown>=2.6.8->tensorboard<1.14.0,>=1.13.0->tensorflow==1.13.1) (4.12.0)\n",
            "Requirement already satisfied: zipp>=0.5 in /usr/local/lib/python3.7/dist-packages (from importlib-metadata>=4.4->markdown>=2.6.8->tensorboard<1.14.0,>=1.13.0->tensorflow==1.13.1) (3.8.1)\n",
            "Requirement already satisfied: typing-extensions>=3.6.4 in /usr/local/lib/python3.7/dist-packages (from importlib-metadata>=4.4->markdown>=2.6.8->tensorboard<1.14.0,>=1.13.0->tensorflow==1.13.1) (4.1.1)\n",
            "Collecting mock>=2.0.0\n",
            "  Downloading mock-4.0.3-py3-none-any.whl (28 kB)\n",
            "Requirement already satisfied: cached-property in /usr/local/lib/python3.7/dist-packages (from h5py->keras-applications>=1.0.6->tensorflow==1.13.1) (1.5.2)\n",
            "Installing collected packages: mock, tensorflow-estimator, tensorboard, keras-applications, tensorflow\n",
            "  Attempting uninstall: tensorflow-estimator\n",
            "    Found existing installation: tensorflow-estimator 2.8.0\n",
            "    Uninstalling tensorflow-estimator-2.8.0:\n",
            "      Successfully uninstalled tensorflow-estimator-2.8.0\n",
            "  Attempting uninstall: tensorboard\n",
            "    Found existing installation: tensorboard 2.8.0\n",
            "    Uninstalling tensorboard-2.8.0:\n",
            "      Successfully uninstalled tensorboard-2.8.0\n",
            "  Attempting uninstall: tensorflow\n",
            "    Found existing installation: tensorflow 2.8.2+zzzcolab20220527125636\n",
            "    Uninstalling tensorflow-2.8.2+zzzcolab20220527125636:\n",
            "      Successfully uninstalled tensorflow-2.8.2+zzzcolab20220527125636\n",
            "\u001b[31mERROR: pip's dependency resolver does not currently take into account all the packages that are installed. This behaviour is the source of the following dependency conflicts.\n",
            "kapre 0.3.7 requires tensorflow>=2.0.0, but you have tensorflow 1.13.1 which is incompatible.\u001b[0m\n",
            "Successfully installed keras-applications-1.0.8 mock-4.0.3 tensorboard-1.13.1 tensorflow-1.13.1 tensorflow-estimator-1.13.0\n"
          ]
        }
      ]
    },
    {
      "cell_type": "code",
      "metadata": {
        "id": "Jdd7f42bNH23",
        "colab": {
          "base_uri": "https://localhost:8080/"
        },
        "outputId": "5ec241a4-2018-4b7b-fc87-d2c59f0cb9c1"
      },
      "source": [
        "## Importing required libraries\n",
        "import numpy as np\n",
        "import tensorflow as tf\n",
        "from sklearn.metrics import roc_auc_score, accuracy_score\n",
        "import matplotlib.pyplot as plt\n",
        "s = tf.InteractiveSession()"
      ],
      "execution_count": null,
      "outputs": [
        {
          "output_type": "stream",
          "name": "stderr",
          "text": [
            "/usr/local/lib/python3.7/dist-packages/tensorflow/python/framework/dtypes.py:526: FutureWarning: Passing (type, 1) or '1type' as a synonym of type is deprecated; in a future version of numpy, it will be understood as (type, (1,)) / '(1,)type'.\n",
            "  _np_qint8 = np.dtype([(\"qint8\", np.int8, 1)])\n",
            "/usr/local/lib/python3.7/dist-packages/tensorflow/python/framework/dtypes.py:527: FutureWarning: Passing (type, 1) or '1type' as a synonym of type is deprecated; in a future version of numpy, it will be understood as (type, (1,)) / '(1,)type'.\n",
            "  _np_quint8 = np.dtype([(\"quint8\", np.uint8, 1)])\n",
            "/usr/local/lib/python3.7/dist-packages/tensorflow/python/framework/dtypes.py:528: FutureWarning: Passing (type, 1) or '1type' as a synonym of type is deprecated; in a future version of numpy, it will be understood as (type, (1,)) / '(1,)type'.\n",
            "  _np_qint16 = np.dtype([(\"qint16\", np.int16, 1)])\n",
            "/usr/local/lib/python3.7/dist-packages/tensorflow/python/framework/dtypes.py:529: FutureWarning: Passing (type, 1) or '1type' as a synonym of type is deprecated; in a future version of numpy, it will be understood as (type, (1,)) / '(1,)type'.\n",
            "  _np_quint16 = np.dtype([(\"quint16\", np.uint16, 1)])\n",
            "/usr/local/lib/python3.7/dist-packages/tensorflow/python/framework/dtypes.py:530: FutureWarning: Passing (type, 1) or '1type' as a synonym of type is deprecated; in a future version of numpy, it will be understood as (type, (1,)) / '(1,)type'.\n",
            "  _np_qint32 = np.dtype([(\"qint32\", np.int32, 1)])\n",
            "/usr/local/lib/python3.7/dist-packages/tensorflow/python/framework/dtypes.py:535: FutureWarning: Passing (type, 1) or '1type' as a synonym of type is deprecated; in a future version of numpy, it will be understood as (type, (1,)) / '(1,)type'.\n",
            "  np_resource = np.dtype([(\"resource\", np.ubyte, 1)])\n"
          ]
        }
      ]
    },
    {
      "cell_type": "markdown",
      "metadata": {
        "id": "FfVGuklkRUWb"
      },
      "source": [
        "We can check the tensorflow version"
      ]
    },
    {
      "cell_type": "code",
      "metadata": {
        "id": "L1S5fgwTQLPW",
        "colab": {
          "base_uri": "https://localhost:8080/"
        },
        "outputId": "64d95297-63af-4e0e-cb28-03ef321c54db"
      },
      "source": [
        "!pip show tensorflow"
      ],
      "execution_count": null,
      "outputs": [
        {
          "output_type": "stream",
          "name": "stdout",
          "text": [
            "Name: tensorflow\n",
            "Version: 1.13.1\n",
            "Summary: TensorFlow is an open source machine learning framework for everyone.\n",
            "Home-page: https://www.tensorflow.org/\n",
            "Author: Google Inc.\n",
            "Author-email: opensource@google.com\n",
            "License: Apache 2.0\n",
            "Location: /usr/local/lib/python3.7/dist-packages\n",
            "Requires: numpy, absl-py, keras-applications, tensorflow-estimator, grpcio, protobuf, termcolor, wheel, tensorboard, six, astor, gast, keras-preprocessing\n",
            "Required-by: kapre\n"
          ]
        }
      ]
    },
    {
      "cell_type": "markdown",
      "metadata": {
        "id": "60fNjam4RYGG"
      },
      "source": [
        "Let's load the dataset now."
      ]
    },
    {
      "cell_type": "code",
      "metadata": {
        "id": "pMaLrxSmNc3e"
      },
      "source": [
        "X_train=np.load(\"train.npy\")\n",
        "X_test=np.load(\"test.npy\")"
      ],
      "execution_count": null,
      "outputs": []
    },
    {
      "cell_type": "code",
      "source": [
        "print(X_train.shape)"
      ],
      "metadata": {
        "id": "iJgzTLDfLb9k",
        "colab": {
          "base_uri": "https://localhost:8080/"
        },
        "outputId": "c034e0a1-408e-406e-9e2c-3acf9b79f4c2"
      },
      "execution_count": null,
      "outputs": [
        {
          "output_type": "stream",
          "name": "stdout",
          "text": [
            "(58100, 100)\n"
          ]
        }
      ]
    },
    {
      "cell_type": "markdown",
      "metadata": {
        "id": "gbftcITwRcL3"
      },
      "source": [
        "Let us generate one-hot encoded labels now."
      ]
    },
    {
      "cell_type": "code",
      "metadata": {
        "id": "gH6GmtqdNfPs",
        "colab": {
          "base_uri": "https://localhost:8080/"
        },
        "outputId": "c8e8d2f8-b15b-4123-b45f-467100247047"
      },
      "source": [
        "labels=np.array([0,1])\n",
        "labels=np.tile(labels,(29050,1))\t#290502\n",
        "l21=np.array([1,0])\n",
        "l21=np.tile(l21,(29050,1))\n",
        "y_train=np.concatenate((labels,l21))\n",
        "\n",
        "labels=np.array([0,1])\n",
        "labels=np.tile(labels,(5612,1))\n",
        "l21=np.array([1,0])\n",
        "l21=np.tile(l21,(5612,1))\n",
        "y_test=np.concatenate((labels,l21))\n",
        "\n",
        "print(X_train.shape)\n",
        "print(y_train.shape)\n",
        "print(X_test.shape)\n",
        "print(y_test.shape)"
      ],
      "execution_count": null,
      "outputs": [
        {
          "output_type": "stream",
          "name": "stdout",
          "text": [
            "(58100, 100)\n",
            "(58100, 2)\n",
            "(11224, 100)\n",
            "(11224, 2)\n"
          ]
        }
      ]
    },
    {
      "cell_type": "markdown",
      "metadata": {
        "id": "wFRNECEQRp8K"
      },
      "source": [
        "We can print and visualize the first input data"
      ]
    },
    {
      "cell_type": "code",
      "metadata": {
        "id": "Ugpi4tLEQAsJ",
        "colab": {
          "base_uri": "https://localhost:8080/",
          "height": 563
        },
        "outputId": "c652ffb8-1017-42b7-b976-e9c48702e733"
      },
      "source": [
        "print(X_test[0])\n",
        "plt.imshow(X_test[0:100], cmap = plt.cm.binary)\n",
        "plt.show()"
      ],
      "execution_count": null,
      "outputs": [
        {
          "output_type": "stream",
          "name": "stdout",
          "text": [
            "[ 0.32913918  0.11418276 -0.15001504  0.878152   -0.37261634 -0.21531838\n",
            "  0.92283683 -0.19840099 -0.2373563   0.04173235 -0.01595267 -0.33668201\n",
            " -0.4715161  -0.5316657   0.06738193 -0.07207102 -0.32112831  0.10530914\n",
            "  0.65420548 -0.56881649 -0.56910012  0.38175422  0.52962599 -0.26943627\n",
            "  0.54241516  0.14294665 -0.21062504  0.05818742  0.53388699  0.25704691\n",
            "  0.05763524  0.43780223 -0.26887245 -0.29121298  0.28282855 -0.43569602\n",
            "  0.31084077 -0.68238276  0.0525105   0.57149969 -0.00543944 -0.3944395\n",
            " -0.36925412  0.3412337  -0.77447119  0.25929517 -0.57444581  0.29580644\n",
            " -0.31335476  0.10489712  0.03751386 -0.18659647 -0.00898129  0.12894916\n",
            " -0.13862857 -0.0121529  -0.02310789  0.93962637  0.26278689  0.03554171\n",
            "  0.05481437 -0.29841601  0.45563469  0.06707608  0.24233119  0.26085098\n",
            " -0.22131874 -0.64556451  0.24776852  0.31678908  0.22094857 -0.32912151\n",
            " -0.04868611 -0.48262732 -0.21552873  0.25516087  0.39723517 -0.06775402\n",
            "  0.22014485  0.34014801 -0.07780114 -0.41967061 -0.30101904 -0.09106615\n",
            " -0.28040545  0.48575189  0.05659898 -0.373875    0.06777007  0.20920392\n",
            "  0.20908359 -0.04267139 -0.61525815 -0.10832831 -0.27554742  0.05062861\n",
            " -0.4553344  -0.18588065 -0.16709545  0.17541165]\n"
          ]
        },
        {
          "output_type": "display_data",
          "data": {
            "text/plain": [
              "<Figure size 432x288 with 1 Axes>"
            ],
            "image/png": "[encoded data removed]"
          },
          "metadata": {
            "needs_background": "light"
          }
        }
      ]
    },
    {
      "cell_type": "markdown",
      "metadata": {
        "id": "vvO-Za7QQfJq"
      },
      "source": [
        "Let’s start our model construction by defining initialization variables."
      ]
    },
    {
      "cell_type": "code",
      "metadata": {
        "id": "hRiO7RLHNh8n"
      },
      "source": [
        "num_classes = 2\n",
        "num_features = X_train.shape[1]\n",
        "num_output = y_train.shape[1]\n",
        "num_layers_0 = 512\n",
        "num_layers_1 = 256\n",
        "starter_learning_rate = 0.001\n",
        "regularizer_rate = 0.1"
      ],
      "execution_count": null,
      "outputs": []
    },
    {
      "cell_type": "markdown",
      "metadata": {
        "id": "cGnbuzlGQjLl"
      },
      "source": [
        "In tensorflow, we define a placeholder for our input variables and output variables and any variables we want to keep track of."
      ]
    },
    {
      "cell_type": "code",
      "metadata": {
        "id": "AHC6NRGSNlf7"
      },
      "source": [
        "# Placeholders for the input data\n",
        "input_X = tf.placeholder('float32',shape =(None,num_features),name=\"input_X\")\n",
        "input_y = tf.placeholder('float32',shape = (None,num_classes),name='input_Y')\n",
        "## for dropout layer\n",
        "keep_prob = tf.placeholder(tf.float32)"
      ],
      "execution_count": null,
      "outputs": []
    },
    {
      "cell_type": "markdown",
      "metadata": {
        "id": "y43-DG99Qrlx"
      },
      "source": [
        "As dense layers require weights and biases and they need to be initialized with a random normal distribution with zero mean and small variance (1/square root of the number of features)."
      ]
    },
    {
      "cell_type": "code",
      "metadata": {
        "id": "FpfVmCXONn62",
        "colab": {
          "base_uri": "https://localhost:8080/"
        },
        "outputId": "5e2630f3-30ac-42a9-a132-d97c88e152fe"
      },
      "source": [
        "## Weights initialized by random normal function with std_dev = 1/sqrt(number of input features)\n",
        "weights_0 = tf.Variable(tf.random_normal([num_features,num_layers_0], stddev=(1/tf.sqrt(float(num_features)))))\n",
        "bias_0 = tf.Variable(tf.random_normal([num_layers_0]))\n",
        "\n",
        "weights_1 = tf.Variable(tf.random_normal([num_layers_0,num_layers_1], stddev=(1/tf.sqrt(float(num_layers_0)))))\n",
        "bias_1 = tf.Variable(tf.random_normal([num_layers_1]))\n",
        "\n",
        "weights_2 = tf.Variable(tf.random_normal([num_layers_1,num_output], stddev=(1/tf.sqrt(float(num_layers_1)))))\n",
        "bias_2 = tf.Variable(tf.random_normal([num_output]))"
      ],
      "execution_count": null,
      "outputs": [
        {
          "output_type": "stream",
          "name": "stdout",
          "text": [
            "WARNING:tensorflow:From /usr/local/lib/python3.7/dist-packages/tensorflow/python/framework/op_def_library.py:263: colocate_with (from tensorflow.python.framework.ops) is deprecated and will be removed in a future version.\n",
            "Instructions for updating:\n",
            "Colocations handled automatically by placer.\n"
          ]
        }
      ]
    },
    {
      "cell_type": "markdown",
      "metadata": {
        "id": "YOmm2I3qQw5I"
      },
      "source": [
        "We will multiply the input for each layer with its respective weights and add bias term. After weights and biases, we need to add an activation; we will use ReLU activation for hidden layers and softmax for the final output layer to get class probability score. Also to prevent overfitting; let ‘s add some drop out after each hidden layer. Dropout is an essential concept in creating redundancies in our network which leads to better generalization."
      ]
    },
    {
      "cell_type": "code",
      "metadata": {
        "id": "1ypcgNG7Np7t",
        "colab": {
          "base_uri": "https://localhost:8080/"
        },
        "outputId": "885a5f1c-05bd-4230-879a-226f57be118d"
      },
      "source": [
        "## Initializing weigths and biases\n",
        "hidden_output_0 = tf.nn.relu(tf.matmul(input_X,weights_0)+bias_0)\n",
        "hidden_output_0_0 = tf.nn.dropout(hidden_output_0, keep_prob)\n",
        "hidden_output_1 = tf.nn.relu(tf.matmul(hidden_output_0_0,weights_1)+bias_1)\n",
        "hidden_output_1_1 = tf.nn.dropout(hidden_output_1, keep_prob)\n",
        "predicted_y = tf.sigmoid(tf.matmul(hidden_output_1_1,weights_2) + bias_2)"
      ],
      "execution_count": null,
      "outputs": [
        {
          "output_type": "stream",
          "name": "stdout",
          "text": [
            "WARNING:tensorflow:From <ipython-input-11-1de5832df98d>:3: calling dropout (from tensorflow.python.ops.nn_ops) with keep_prob is deprecated and will be removed in a future version.\n",
            "Instructions for updating:\n",
            "Please use `rate` instead of `keep_prob`. Rate should be set to `rate = 1 - keep_prob`.\n"
          ]
        }
      ]
    },
    {
      "cell_type": "markdown",
      "metadata": {
        "id": "aDN9KoicQ01E"
      },
      "source": [
        "Now we need to define a loss function to optimize our weights and biases, and we will use softmax cross entropy with logits for the predicted and correct label. We will also add some L2 regularization to our network.\n",
        "\n",
        "Now we need to define an optimizer and learning rate for our network to optimize weights and biases on our given loss function. We will use exponential decay on our learning rate by every five epoch to reduce the learning by 15%. For optimizer, we are going to use Adam optimizer.\n",
        "\n"
      ]
    },
    {
      "cell_type": "code",
      "metadata": {
        "id": "QL-ymwE5NsY1"
      },
      "source": [
        "## Defining the loss function\n",
        "loss = tf.reduce_mean(tf.nn.softmax_cross_entropy_with_logits_v2(logits=predicted_y,labels=input_y)) \\\n",
        "        + regularizer_rate*(tf.reduce_sum(tf.square(bias_0)) + tf.reduce_sum(tf.square(bias_1)))\n",
        "\n",
        "## Variable learning rate\n",
        "learning_rate = tf.train.exponential_decay(starter_learning_rate, 0, 5, 0.85, staircase=True)\n",
        "## Adam optimzer for finding the right weight\n",
        "optimizer = tf.train.AdamOptimizer(learning_rate).minimize(loss,var_list=[weights_0,weights_1,weights_2,\n",
        "                                                                         bias_0,bias_1,bias_2])"
      ],
      "execution_count": null,
      "outputs": []
    },
    {
      "cell_type": "markdown",
      "metadata": {
        "id": "kcuF_e68RAi_"
      },
      "source": [
        "We are done with our model construction. Let’s define accuracy metric to evaluate our model performance as loss function is non-intuitive."
      ]
    },
    {
      "cell_type": "code",
      "metadata": {
        "id": "LXdxNDq4RD02"
      },
      "source": [
        "## Metrics definition\n",
        "correct_prediction = tf.equal(tf.argmax(y_train,1), tf.argmax(predicted_y,1))\n",
        "accuracy = tf.reduce_mean(tf.cast(correct_prediction, tf.float32))"
      ],
      "execution_count": null,
      "outputs": []
    },
    {
      "cell_type": "markdown",
      "metadata": {
        "id": "cG9ZDMN9RI06"
      },
      "source": [
        "We will now start training our network on train data and evaluate our network on test dataset simultaneously. We will be using batch optimization with size 128 and train it for 15 epochs."
      ]
    },
    {
      "cell_type": "code",
      "metadata": {
        "id": "brCdqQ2VNwcf"
      },
      "source": [
        "## Training parameters\n",
        "batch_size = 128\n",
        "epochs=15\n",
        "dropout_prob = 0.6\n",
        "\n",
        "training_accuracy = []\n",
        "training_loss = []\n",
        "testing_accuracy = []"
      ],
      "execution_count": null,
      "outputs": []
    },
    {
      "cell_type": "code",
      "metadata": {
        "id": "H3IhmZ8PN603",
        "outputId": "2bdb9e88-9a5a-4e3c-de02-7bd03a235b6c",
        "colab": {
          "base_uri": "https://localhost:8080/"
        }
      },
      "source": [
        "s.run(tf.global_variables_initializer())\n",
        "for epoch in range(epochs):    \n",
        "    arr = np.arange(X_train.shape[0])\n",
        "    np.random.shuffle(arr)\n",
        "    for index in range(0,X_train.shape[0],batch_size):\n",
        "        s.run(optimizer, {input_X: X_train[arr[index:index+batch_size]],\n",
        "                          input_y: y_train[arr[index:index+batch_size]],\n",
        "                        keep_prob:dropout_prob})\n",
        "    training_accuracy.append(s.run(accuracy, feed_dict= {input_X:X_train, \n",
        "                                                         input_y: y_train,keep_prob:1}))\n",
        "    training_loss.append(s.run(loss, {input_X: X_train, \n",
        "                                      input_y: y_train,keep_prob:1}))\n",
        "    \n",
        "    ## Evaluation of model\n",
        "    testing_accuracy.append(accuracy_score(y_test.argmax(1), \n",
        "                            s.run(predicted_y, {input_X: X_test,keep_prob:1}).argmax(1)))\n",
        "    print(\"Epoch:{0}, Train loss: {1:.2f} Train acc: {2:.3f}, Test acc:{3:.3f}\".format(epoch,\n",
        "                                                                    training_loss[epoch],\n",
        "                                                                    training_accuracy[epoch],\n",
        "                                                                   testing_accuracy[epoch]))\n",
        "\n",
        "## Plotting chart of training and testing accuracy as a function of iterations\n",
        "print(\"Train Accuracy: {0:.2f}\".format(training_accuracy[-1]))\n",
        "print(\"Test Accuracy:{0:.2f}\".format(testing_accuracy[-1]))"
      ],
      "execution_count": null,
      "outputs": [
        {
          "output_type": "stream",
          "name": "stdout",
          "text": [
            "Epoch:0, Train loss: 36.91 Train acc: 0.709, Test acc:0.660\n",
            "Epoch:1, Train loss: 18.19 Train acc: 0.716, Test acc:0.670\n",
            "Epoch:2, Train loss: 8.91 Train acc: 0.722, Test acc:0.670\n",
            "Epoch:3, Train loss: 4.37 Train acc: 0.734, Test acc:0.682\n",
            "Epoch:4, Train loss: 2.22 Train acc: 0.735, Test acc:0.682\n",
            "Epoch:5, Train loss: 1.23 Train acc: 0.739, Test acc:0.693\n",
            "Epoch:6, Train loss: 0.81 Train acc: 0.744, Test acc:0.690\n",
            "Epoch:7, Train loss: 0.64 Train acc: 0.741, Test acc:0.689\n",
            "Epoch:8, Train loss: 0.57 Train acc: 0.748, Test acc:0.697\n",
            "Epoch:9, Train loss: 0.55 Train acc: 0.748, Test acc:0.696\n",
            "Epoch:10, Train loss: 0.55 Train acc: 0.749, Test acc:0.695\n",
            "Epoch:11, Train loss: 0.55 Train acc: 0.750, Test acc:0.694\n",
            "Epoch:12, Train loss: 0.55 Train acc: 0.751, Test acc:0.702\n",
            "Epoch:13, Train loss: 0.54 Train acc: 0.755, Test acc:0.703\n",
            "Epoch:14, Train loss: 0.54 Train acc: 0.753, Test acc:0.702\n",
            "Train Accuracy: 0.75\n",
            "Test Accuracy:0.70\n"
          ]
        }
      ]
    },
    {
      "cell_type": "markdown",
      "metadata": {
        "id": "Erl8YNziRRIe"
      },
      "source": [
        "Let’s visualization train and test accuracy as a function of the number of epochs."
      ]
    },
    {
      "cell_type": "code",
      "metadata": {
        "id": "EU6Xa7B8OD_J",
        "outputId": "c6c1e7d7-8c96-4082-f85d-f35d58684016",
        "colab": {
          "base_uri": "https://localhost:8080/",
          "height": 279
        }
      },
      "source": [
        "## Plotting chart of training and testing accuracy as a function of iterations\n",
        "iterations = list(range(epochs))\n",
        "plt.plot(iterations, training_accuracy, label='Train')\n",
        "plt.plot(iterations, testing_accuracy, label='Test')\n",
        "plt.ylabel('Accuracy')\n",
        "plt.xlabel('iterations')\n",
        "plt.legend()\n",
        "plt.show()"
      ],
      "execution_count": null,
      "outputs": [
        {
          "output_type": "display_data",
          "data": {
            "text/plain": [
              "<Figure size 432x288 with 1 Axes>"
            ],
            "image/png": "[encoded data removed]"
          },
          "metadata": {
            "needs_background": "light"
          }
        }
      ]
    }
  ]
}